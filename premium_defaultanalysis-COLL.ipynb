{
 "cells": [
  {
   "cell_type": "markdown",
   "metadata": {},
   "source": [
    "# Final Project : Classification(Premium Default Prediction)"
   ]
  },
  {
   "cell_type": "markdown",
   "metadata": {},
   "source": [
    "# PROBLEM DEFINITION"
   ]
  },
  {
   "cell_type": "raw",
   "metadata": {},
   "source": [
    "\n",
    "Our client is an Insurance company and they need our help in building a model to predict whether the policyholder (customer) will pay next premium on time or not.\n",
    "An insurance policy is an arrangement by which a company undertakes to provide a guarantee of compensation for specified loss, damage, illness, or death in return for the payment of a specified premium. A premium is a sum of money that you pay regularly to an insurance company for this guarantee.\n",
    "For example, you may pay a premium of Rs. 5000 each year for a medical insurance cover of Rs. 200,000/- so that if, God forbid, you fall ill and need to be hospitalised in that year, the insurance provider company will bear the cost of hospitalisation etc. for upto Rs. 200,000. Now if you are wondering how can company bear such high hospitalisation cost when it charges a premium of only Rs. 5000/-, that is where the concept of probabilities comes in picture. For example, like you, there may be 100 customers who would be paying a premium of Rs. 5000 every year, but only a few of them (say 2-3) would get hospitalised that year and not everyone. This way everyone shares the risk of everyone else.\n",
    "Just like medical insurance, there is life insurance where every year you pay a premium of certain amount to insurance provider company so that in case of unfortunate event of your death, the insurance provider company will provide a compensation (called ‘sum assured’) to your immediate family. Similarly, there can be a variety of insurance products for different kinds of risks.\n",
    "As you can imagine, if a large number of customers do not pay the premium on time, it might disrupt the cash flow and smooth operation for the company. A customer may stop making regular premium payments for a variety of reasons - some may forget, some may find it expensive and not worth the value, some may not have money to pay the premium etc.\n",
    "Building a model to predict whether a customer would make the premium payment can be extremely helpful for the company because it can then accordingly plan its communication strategy to reach out to those customers who are less likely to pay and convince them to continue making timely payment.\n",
    "Now, in order to predict, whether the customer would pay the next premium or not, we have information about past premium payment history for the policyholders along with their demographics (age, monthly income, area type) and sourcing channel etc.\n"
   ]
  },
  {
   "cell_type": "markdown",
   "metadata": {},
   "source": [
    "# HPOTHESIS GENERATION"
   ]
  },
  {
   "cell_type": "raw",
   "metadata": {},
   "source": [
    "List all the possible variables which might be influencing the problem objective.\n",
    "1.Age-several age classes may affect the premium payment.\n",
    "2.Income-individual income also affects i.e. if income is high premium may be paid on time or else might not.\n",
    "3.Previous premium details-This include late premiums , number of premiums already paid\n",
    "4.Sourcing channel\n",
    "5.Living Area-Urban or Rural"
   ]
  },
  {
   "cell_type": "markdown",
   "metadata": {},
   "source": [
    "# DATA EXTRACTION AND COLLECTION"
   ]
  },
  {
   "cell_type": "raw",
   "metadata": {},
   "source": [
    "Data-\n",
    "\n",
    "train.csv-\n",
    "\n",
    "Variable\t                        Definition\n",
    "id\t                                Unique ID of the policy\n",
    "perc_premium_paid_by_cash_credit\tPercentage of premium amount paid by cash or credit card\n",
    "age_in_days                     \tAge in days of policy holder\n",
    "Income\t                            Monthly Income of policy holder\n",
    "Count_3-6_months_late\t            No of premiums late by 3 to 6 months\n",
    "Count_6-12_months_late\t            No  of premiums late by 6 to 12 months\n",
    "Count_more_than_12_months_late\t    No of premiums late by more than 12 months\n",
    "application_underwriting_score\t    Underwriting Score of the applicant at the time of application \n",
    "no_of_premiums_paid\t                Total premiums paid on time till now\n",
    "sourcing_channel\t                Sourcing channel for application\n",
    "residence_area_type\t                Area type of Residence (Urban/Rural)\n",
    "target\t                            1 - premium paid on time, 0 - otherwise\n",
    "\n",
    "test.csv-\n",
    "\n",
    "Variable\t                        Definition\n",
    "id\t                                Unique ID of the policy\n",
    "perc_premium_paid_by_cash_credit\tPercentage of premium amount paid by cash or credit card\n",
    "age_in_days                     \tAge in days of policy holder\n",
    "Income\t                            Monthly Income of policy holder\n",
    "Count_3-6_months_late\t            No of premiums late by 3 to 6 months\n",
    "Count_6-12_months_late\t            No  of premiums late by 6 to 12 months\n",
    "Count_more_than_12_months_late\t    No of premiums late by more than 12 months\n",
    "application_underwriting_score\t    Underwriting Score of the applicant at the time of application \n",
    "no_of_premiums_paid\t                Total premiums paid on time till now\n",
    "sourcing_channel\t                Sourcing channel for application\n",
    "residence_area_type\t                Area type of Residence (Urban/Rural)\n",
    "\n",
    "sample_submission.csv\n",
    "\n",
    "Variable                            Definition\n",
    "id-\t                                Unique ID for the policy\n",
    "target-                            Predicted Probability for target"
   ]
  },
  {
   "cell_type": "markdown",
   "metadata": {},
   "source": [
    "# Importing Libraries"
   ]
  },
  {
   "cell_type": "code",
   "execution_count": null,
   "metadata": {},
   "outputs": [],
   "source": [
    "# importing libraries\n",
    "# For mathematical calculations and array manipulation\n",
    "import pandas as pd\n",
    "import numpy as np                   \n",
    "\n",
    "import seaborn as sns             # For data visualization\n",
    "import matplotlib.pyplot as plt   # For plotting graphs\n",
    "%matplotlib inline\n",
    "\n",
    "import os\n",
    "import warnings                   # To ignore any warnings\n",
    "warnings.filterwarnings(\"ignore\")\n",
    "\n",
    "\n",
    "from sklearn.preprocessing import StandardScaler, MinMaxScaler   #standard scaler\n",
    "\n",
    "# Evaluation metrics\n",
    "from sklearn.metrics import confusion_matrix  #evaluation metrics\n",
    "from sklearn.metrics import classification_report\n",
    "\n",
    "#MODEL BUILDING\n",
    "from sklearn.linear_model import LogisticRegression, SGDClassifier, Perceptron \n",
    "from sklearn.svm import SVC, LinearSVC\n",
    "from sklearn.ensemble import RandomForestClassifier\n",
    "from sklearn.neighbors import KNeighborsClassifier\n",
    "from sklearn.naive_bayes import GaussianNB\n",
    "from sklearn.tree import DecisionTreeClassifier\n",
    "from sklearn.model_selection import train_test_split\n",
    "from sklearn.metrics import accuracy_score, mean_squared_error\n",
    "\n",
    "#parameter improving\n",
    "from sklearn.model_selection import GridSearchCV"
   ]
  },
  {
   "cell_type": "markdown",
   "metadata": {},
   "source": [
    "# READING DATA"
   ]
  },
  {
   "cell_type": "code",
   "execution_count": null,
   "metadata": {},
   "outputs": [],
   "source": [
    "# loading the data\n",
    "train = pd.read_csv('train credit.csv')\n",
    "test = pd.read_csv('test credit.csv')\n",
    "combine = [train, test]\n",
    "#combine used to ensure changes done to complete dataset"
   ]
  },
  {
   "cell_type": "markdown",
   "metadata": {},
   "source": [
    "Let's check the features present in our data and then we will look at their data types."
   ]
  },
  {
   "cell_type": "code",
   "execution_count": null,
   "metadata": {},
   "outputs": [],
   "source": [
    "train.columns"
   ]
  },
  {
   "cell_type": "code",
   "execution_count": null,
   "metadata": {},
   "outputs": [],
   "source": [
    "test.columns"
   ]
  },
  {
   "cell_type": "code",
   "execution_count": null,
   "metadata": {},
   "outputs": [],
   "source": [
    "train.shape, test.shape"
   ]
  },
  {
   "cell_type": "code",
   "execution_count": null,
   "metadata": {},
   "outputs": [],
   "source": [
    "#printing first five rows of the dataset\n",
    "train.head()"
   ]
  },
  {
   "cell_type": "code",
   "execution_count": null,
   "metadata": {},
   "outputs": [],
   "source": [
    "train.tail()"
   ]
  },
  {
   "cell_type": "code",
   "execution_count": null,
   "metadata": {},
   "outputs": [],
   "source": [
    "test.head()"
   ]
  },
  {
   "cell_type": "code",
   "execution_count": null,
   "metadata": {},
   "outputs": [],
   "source": [
    "test.tail()"
   ]
  },
  {
   "cell_type": "markdown",
   "metadata": {},
   "source": [
    "# VARIABLE IDENTIFICATION"
   ]
  },
  {
   "cell_type": "code",
   "execution_count": null,
   "metadata": {},
   "outputs": [],
   "source": [
    "# Print data types for each variable\n",
    "train.dtypes"
   ]
  },
  {
   "cell_type": "code",
   "execution_count": null,
   "metadata": {},
   "outputs": [],
   "source": [
    "test.dtypes"
   ]
  },
  {
   "cell_type": "markdown",
   "metadata": {},
   "source": [
    "# We can see there are two format of data types:\n",
    "\n",
    "1. **object**: Object format means variables are categorical. Categorical variables in our dataset are: job, marital, education, default, housing, loan, contact, month, poutcome, subscribed\n",
    "\n",
    "2. **int64**: It represents the integer variables. Integer variables in our dataset are: ID, age, balance, day, duration, campaign, pdays, previous"
   ]
  },
  {
   "cell_type": "markdown",
   "metadata": {},
   "source": [
    "# UNIVARIATE ANALYSIS"
   ]
  },
  {
   "cell_type": "code",
   "execution_count": null,
   "metadata": {},
   "outputs": [],
   "source": [
    "train.describe()"
   ]
  },
  {
   "cell_type": "markdown",
   "metadata": {},
   "source": [
    "93% of the people paid their premium."
   ]
  },
  {
   "cell_type": "code",
   "execution_count": null,
   "metadata": {},
   "outputs": [],
   "source": [
    "test.describe()"
   ]
  },
  {
   "cell_type": "code",
   "execution_count": null,
   "metadata": {},
   "outputs": [],
   "source": [
    "train.describe(percentiles = [.08, .07, .06])"
   ]
  },
  {
   "cell_type": "code",
   "execution_count": null,
   "metadata": {},
   "outputs": [],
   "source": [
    "test.describe(percentiles = [.08, .07, .06])"
   ]
  },
  {
   "cell_type": "markdown",
   "metadata": {},
   "source": [
    "# BIVARIATE ANALYSIS"
   ]
  },
  {
   "cell_type": "code",
   "execution_count": null,
   "metadata": {},
   "outputs": [],
   "source": [
    "plt.figure(figsize = (15, 6))\n",
    "sns.heatmap(train.corr(), annot = True)\n",
    "plt.show()"
   ]
  },
  {
   "cell_type": "markdown",
   "metadata": {},
   "source": [
    "# DATA EXPLORATION AND TRANSFORMATION"
   ]
  },
  {
   "cell_type": "code",
   "execution_count": null,
   "metadata": {},
   "outputs": [],
   "source": [
    "train.info()"
   ]
  },
  {
   "cell_type": "code",
   "execution_count": null,
   "metadata": {},
   "outputs": [],
   "source": [
    "test.info()"
   ]
  },
  {
   "cell_type": "code",
   "execution_count": null,
   "metadata": {},
   "outputs": [],
   "source": [
    "train.isnull()"
   ]
  },
  {
   "cell_type": "code",
   "execution_count": null,
   "metadata": {},
   "outputs": [],
   "source": [
    "test.isnull()"
   ]
  },
  {
   "cell_type": "code",
   "execution_count": null,
   "metadata": {},
   "outputs": [],
   "source": [
    "train.isnull().sum()"
   ]
  },
  {
   "cell_type": "code",
   "execution_count": null,
   "metadata": {},
   "outputs": [],
   "source": [
    "test.isnull().sum()"
   ]
  },
  {
   "cell_type": "code",
   "execution_count": null,
   "metadata": {},
   "outputs": [],
   "source": [
    "# CONVERTING AGE IN DAYS TO YEARS AND DROPPING PREVIOUS ONE \n",
    "for dataset in combine: \n",
    "    dataset['age'] = dataset['age_in_days']//365\n",
    "    dataset.drop(['age_in_days'], axis = 1, inplace = True)\n",
    "train.head()"
   ]
  },
  {
   "cell_type": "code",
   "execution_count": null,
   "metadata": {},
   "outputs": [],
   "source": [
    "#GROUPING SOURCING CHANNEL\n",
    "train[['sourcing_channel', 'target']].groupby('sourcing_channel', as_index = False).mean()"
   ]
  },
  {
   "cell_type": "markdown",
   "metadata": {},
   "source": [
    "We might need to make income groups to understand the relations better"
   ]
  },
  {
   "cell_type": "code",
   "execution_count": null,
   "metadata": {},
   "outputs": [],
   "source": [
    "#BINNING INCOME OF THE TRAIN DATASET AND GRPUPING ON THE BASIS OF TARGET\n",
    "train['Incomeclass'] = pd.cut(train['Income'], 5)\n",
    "train[['Incomeclass', 'target']].groupby('Incomeclass', as_index = False).count()"
   ]
  },
  {
   "cell_type": "code",
   "execution_count": null,
   "metadata": {},
   "outputs": [],
   "source": [
    "#Let's standardize our data by using a standard scaler\n",
    "scaler = MinMaxScaler()\n",
    "scaler = scaler.fit(train[['Income']])\n",
    "xscale = scaler.transform(train[['Income']])\n",
    "xscale"
   ]
  },
  {
   "cell_type": "raw",
   "metadata": {},
   "source": [
    "StandardScaler follows Standard Normal Distribution (SND). Therefore, it makes mean = 0 and scales the data to unit variance.\n",
    "\n",
    "MinMaxScaler scales all the data features in the range [0, 1] or else in the range [-1, 1] if there are negative values in the dataset. This scaling compresses all the inliers in the narrow range [0, 0.005].\n",
    "In the presence of outliers, StandardScaler does not guarantee balanced feature scales, due to the influence of the outliers while computing the empirical mean and standard deviation. This leads to the shrinkage in the range of the feature values.\n",
    "\n",
    "By using RobustScaler(), we can remove the outliers and then use either StandardScaler or MinMaxScaler for preprocessing the dataset."
   ]
  },
  {
   "cell_type": "code",
   "execution_count": null,
   "metadata": {},
   "outputs": [],
   "source": [
    "#scaler.mean\n",
    "print(scaler.scale_)"
   ]
  },
  {
   "cell_type": "code",
   "execution_count": null,
   "metadata": {},
   "outputs": [],
   "source": [
    "#ADDING SCALED INCOME\n",
    "train['scale_income'] = xscale\n",
    "train.head()"
   ]
  },
  {
   "cell_type": "code",
   "execution_count": null,
   "metadata": {},
   "outputs": [],
   "source": [
    "#BINNING INCOMECLASS AS WELL OF THE TRAIN DATASET AND GRPUPING ON THE BASIS OF TARGET\n",
    "train['Incomeclass'] = pd.cut(train['scale_income'], 5)\n",
    "train[['Incomeclass', 'target']].groupby('Incomeclass', as_index = False).count()"
   ]
  },
  {
   "cell_type": "markdown",
   "metadata": {},
   "source": [
    "# Outlier Treatment For Income"
   ]
  },
  {
   "cell_type": "code",
   "execution_count": null,
   "metadata": {},
   "outputs": [],
   "source": [
    "plt.hist(train['Income'])\n",
    "plt.show()"
   ]
  },
  {
   "cell_type": "code",
   "execution_count": null,
   "metadata": {},
   "outputs": [],
   "source": [
    "upper_bound = 0.95\n",
    "lower_bound = 0.1\n",
    "result = train['Income'].quantile([lower_bound, upper_bound])\n",
    "print(result)"
   ]
  },
  {
   "cell_type": "markdown",
   "metadata": {},
   "source": [
    "So, we can collect all the values in this range and let go of the other ones."
   ]
  },
  {
   "cell_type": "code",
   "execution_count": null,
   "metadata": {},
   "outputs": [],
   "source": [
    "true_index = (train['Income'] < result.loc[upper_bound])\n",
    "true_index"
   ]
  },
  {
   "cell_type": "code",
   "execution_count": null,
   "metadata": {},
   "outputs": [],
   "source": [
    "false_index = ~true_index"
   ]
  },
  {
   "cell_type": "code",
   "execution_count": null,
   "metadata": {},
   "outputs": [],
   "source": [
    "no_outlier_train = train[true_index].copy()\n",
    "no_outlier_train.head()"
   ]
  },
  {
   "cell_type": "code",
   "execution_count": null,
   "metadata": {},
   "outputs": [],
   "source": [
    "no_outlier_train.describe()\n",
    "#removed some outliers from every features availaible"
   ]
  },
  {
   "cell_type": "code",
   "execution_count": null,
   "metadata": {},
   "outputs": [],
   "source": [
    "#Let's make groups for the new income range"
   ]
  },
  {
   "cell_type": "code",
   "execution_count": null,
   "metadata": {},
   "outputs": [],
   "source": [
    "#BINNING INCOMECLASS AS WELL OF THE TRAIN DATASET AND GRPUPING ON THE BASIS OF TARGET\n",
    "no_outlier_train['Incomeclass'] = pd.cut(no_outlier_train['Income'], 5)\n",
    "no_outlier_train[['Incomeclass', 'target']].groupby('Incomeclass', as_index = False).count()"
   ]
  },
  {
   "cell_type": "code",
   "execution_count": null,
   "metadata": {},
   "outputs": [],
   "source": [
    "#dividing income into a proper classes\n",
    "combine = [train, test]\n",
    "for dataset in combine: \n",
    "    dataset.loc[ dataset['Income'] <= 23603.99, 'Income'] = 0\n",
    "    dataset.loc[(dataset['Income'] > 23603.99) & (dataset['Income'] <= 109232.0), 'Income'] = 1\n",
    "    dataset.loc[(dataset['Income'] > 109232.0) & (dataset['Income'] <= 194434.0), 'Income'] = 2\n",
    "    dataset.loc[(dataset['Income'] > 194434.0) & (dataset['Income'] <= 279636.0), 'Income'] = 3\n",
    "    dataset.loc[(dataset['Income'] > 279636.0) & (dataset['Income'] <= 364838.0), 'Income'] = 4\n",
    "    dataset.loc[(dataset['Income'] > 364838.0) & (dataset['Income'] <= 450040.0), 'Income'] = 5\n",
    "    dataset.loc[ dataset['Income'] > 450040.0, 'Income'] = 6\n",
    "    \n",
    "train.head()"
   ]
  },
  {
   "cell_type": "code",
   "execution_count": null,
   "metadata": {},
   "outputs": [],
   "source": [
    "train.loc[false_index, 'Income'] = 5\n",
    "train.head()"
   ]
  },
  {
   "cell_type": "code",
   "execution_count": null,
   "metadata": {},
   "outputs": [],
   "source": [
    "train.drop(['Incomeclass', 'scale_income'], axis = 1, inplace = True)\n",
    "train.head()"
   ]
  },
  {
   "cell_type": "markdown",
   "metadata": {},
   "source": [
    "making classes for Age"
   ]
  },
  {
   "cell_type": "code",
   "execution_count": null,
   "metadata": {},
   "outputs": [],
   "source": [
    "train['Ageclass'] = pd.cut(train['age'], 5)\n",
    "train[['Ageclass', 'target']].groupby('Ageclass', as_index = False).count()"
   ]
  },
  {
   "cell_type": "markdown",
   "metadata": {},
   "source": [
    "The Age feature lies between 20 to 103."
   ]
  },
  {
   "cell_type": "code",
   "execution_count": null,
   "metadata": {},
   "outputs": [],
   "source": [
    "#assigning numbers to the ageclass\n",
    "for dataset in combine:    \n",
    "    dataset.loc[ dataset['age'] <= 37.4, 'age'] = 0\n",
    "    dataset.loc[(dataset['age'] > 37.4) & (dataset['age'] <= 53.8), 'age'] = 1\n",
    "    dataset.loc[(dataset['age'] > 53.8) & (dataset['age'] <= 70.2), 'age'] = 2\n",
    "    dataset.loc[(dataset['age'] > 70.2) & (dataset['age'] <= 86.6), 'age'] = 3\n",
    "    dataset.loc[ dataset['age'] > 86.6, 'age'] = 4\n",
    "combine = [train, test]\n",
    "train.head()"
   ]
  },
  {
   "cell_type": "code",
   "execution_count": null,
   "metadata": {},
   "outputs": [],
   "source": [
    "train.drop('Ageclass', axis = 1, inplace = True)"
   ]
  },
  {
   "cell_type": "code",
   "execution_count": null,
   "metadata": {},
   "outputs": [],
   "source": [
    "train.head()"
   ]
  },
  {
   "cell_type": "code",
   "execution_count": null,
   "metadata": {},
   "outputs": [],
   "source": [
    "#grouping of mean und_score based on the ageclass\n",
    "train[['age', 'application_underwriting_score']].groupby('age').mean()"
   ]
  },
  {
   "cell_type": "code",
   "execution_count": null,
   "metadata": {},
   "outputs": [],
   "source": [
    "#binning the number of premium paid\n",
    "train['Premiumclass'] = pd.cut(train['no_of_premiums_paid'], 5)"
   ]
  },
  {
   "cell_type": "code",
   "execution_count": null,
   "metadata": {},
   "outputs": [],
   "source": [
    "train.head()"
   ]
  },
  {
   "cell_type": "code",
   "execution_count": null,
   "metadata": {},
   "outputs": [],
   "source": [
    "#grouping premiums based on the application_underwriting _scores\n",
    "train[['Premiumclass', 'application_underwriting_score']].groupby('Premiumclass').count()"
   ]
  },
  {
   "cell_type": "code",
   "execution_count": null,
   "metadata": {},
   "outputs": [],
   "source": [
    "print(train['application_underwriting_score'].mean())\n",
    "print(train['application_underwriting_score'].std())"
   ]
  },
  {
   "cell_type": "code",
   "execution_count": null,
   "metadata": {},
   "outputs": [],
   "source": [
    "print(train[train['sourcing_channel'] == 'A']['application_underwriting_score'].std())"
   ]
  },
  {
   "cell_type": "code",
   "execution_count": null,
   "metadata": {},
   "outputs": [],
   "source": [
    "#grouping the sourcing channel\n",
    "train[['sourcing_channel', 'target']].groupby('sourcing_channel', as_index = False).mean()"
   ]
  },
  {
   "cell_type": "code",
   "execution_count": null,
   "metadata": {},
   "outputs": [],
   "source": [
    "print(train[train['sourcing_channel'] == 'C']['application_underwriting_score'].std())"
   ]
  },
  {
   "cell_type": "code",
   "execution_count": null,
   "metadata": {},
   "outputs": [],
   "source": [
    "train[['sourcing_channel', 'application_underwriting_score']].groupby('sourcing_channel', as_index = False).mean()"
   ]
  },
  {
   "cell_type": "code",
   "execution_count": null,
   "metadata": {},
   "outputs": [],
   "source": [
    "train[['residence_area_type', 'application_underwriting_score']].groupby('residence_area_type', as_index = False).mean()"
   ]
  },
  {
   "cell_type": "markdown",
   "metadata": {},
   "source": [
    "setting the value of underwriting score based on the sourcing channel. "
   ]
  },
  {
   "cell_type": "code",
   "execution_count": null,
   "metadata": {},
   "outputs": [],
   "source": [
    "train.dtypes"
   ]
  },
  {
   "cell_type": "code",
   "execution_count": null,
   "metadata": {},
   "outputs": [],
   "source": [
    "combine = [train, test]\n",
    "for dataset in combine: \n",
    "    mask1 = dataset['application_underwriting_score'].isnull()\n",
    "    for source in ['A', 'B', 'C', 'D', 'E']:\n",
    "        mask2 = (dataset['sourcing_channel'] == source)\n",
    "        source_mean = dataset[dataset['sourcing_channel'] == source]['application_underwriting_score'].mean()\n",
    "        dataset.loc[mask1 & mask2, 'application_underwriting_score'] = source_mean"
   ]
  },
  {
   "cell_type": "code",
   "execution_count": null,
   "metadata": {},
   "outputs": [],
   "source": [
    "train.head()"
   ]
  },
  {
   "cell_type": "code",
   "execution_count": null,
   "metadata": {},
   "outputs": [],
   "source": [
    "train.isnull().sum()"
   ]
  },
  {
   "cell_type": "code",
   "execution_count": null,
   "metadata": {},
   "outputs": [],
   "source": [
    "test.isnull().sum()"
   ]
  },
  {
   "cell_type": "code",
   "execution_count": null,
   "metadata": {},
   "outputs": [],
   "source": [
    "test[test['Count_3-6_months_late'].isnull()]"
   ]
  },
  {
   "cell_type": "code",
   "execution_count": null,
   "metadata": {},
   "outputs": [],
   "source": [
    "#visualizing late premiums to treat missing value and outliers\n",
    "sns.countplot(x = 'Count_3-6_months_late', data = train, hue = 'target')"
   ]
  },
  {
   "cell_type": "code",
   "execution_count": null,
   "metadata": {},
   "outputs": [],
   "source": [
    "sns.countplot(x = 'Count_6-12_months_late', data = train, hue = 'target')"
   ]
  },
  {
   "cell_type": "code",
   "execution_count": null,
   "metadata": {},
   "outputs": [],
   "source": [
    "sns.countplot(x = 'Count_more_than_12_months_late', data = train, hue = 'target')"
   ]
  },
  {
   "cell_type": "code",
   "execution_count": null,
   "metadata": {},
   "outputs": [],
   "source": [
    "#intoducing late_premium for all the late premiums\n",
    "combine = [train, test]\n",
    "for dataset in combine: \n",
    "    dataset['late_premium'] = 0.0\n"
   ]
  },
  {
   "cell_type": "code",
   "execution_count": null,
   "metadata": {},
   "outputs": [],
   "source": [
    "train.head()"
   ]
  },
  {
   "cell_type": "code",
   "execution_count": null,
   "metadata": {},
   "outputs": [],
   "source": [
    "#finding late premiums and adding]\n",
    "combine = [train, test]\n",
    "for dataset in combine:\n",
    "        dataset.loc[(dataset['Count_3-6_months_late'].isnull()),  'late_premium'] = np.NaN\n",
    "        dataset.loc[(dataset['Count_3-6_months_late'].notnull()), 'late_premium'] = dataset['Count_3-6_months_late'] + dataset['Count_6-12_months_late'] + dataset['Count_more_than_12_months_late']\n",
    "        "
   ]
  },
  {
   "cell_type": "code",
   "execution_count": null,
   "metadata": {},
   "outputs": [],
   "source": [
    "train.head()"
   ]
  },
  {
   "cell_type": "code",
   "execution_count": null,
   "metadata": {},
   "outputs": [],
   "source": [
    "#correlation between every feature of train\n",
    "plt.figure(figsize = (15, 6))\n",
    "sns.heatmap(train.corr(), annot = True)"
   ]
  },
  {
   "cell_type": "code",
   "execution_count": null,
   "metadata": {},
   "outputs": [],
   "source": [
    "#correlation between every feature of test\n",
    "plt.figure(figsize = (15, 6))\n",
    "sns.heatmap(test.corr(), annot = True)"
   ]
  },
  {
   "cell_type": "code",
   "execution_count": null,
   "metadata": {},
   "outputs": [],
   "source": [
    "sns.countplot(x = 'late_premium', data = train, hue = 'target')"
   ]
  },
  {
   "cell_type": "code",
   "execution_count": null,
   "metadata": {},
   "outputs": [],
   "source": [
    "#assuming that max late premiums are 7 and min is 2 "
   ]
  },
  {
   "cell_type": "code",
   "execution_count": null,
   "metadata": {},
   "outputs": [],
   "source": [
    "train[['late_premium', 'target']].groupby('late_premium').mean()"
   ]
  },
  {
   "cell_type": "code",
   "execution_count": null,
   "metadata": {},
   "outputs": [],
   "source": [
    "#if late premium is null and target is 0 then loan not granted and max is 7\n",
    "#if late premium is null and target is 1 then loan granted and min is 2\n",
    "#if \n",
    "train.loc[(train['target'] == 0) & (train['late_premium'].isnull()),'late_premium'] = 7\n",
    "train.loc[(train['target'] == 1) & (train['late_premium'].isnull()),'late_premium'] = 2"
   ]
  },
  {
   "cell_type": "code",
   "execution_count": null,
   "metadata": {},
   "outputs": [],
   "source": [
    "train.head()"
   ]
  },
  {
   "cell_type": "code",
   "execution_count": null,
   "metadata": {},
   "outputs": [],
   "source": [
    "train.isnull().sum()"
   ]
  },
  {
   "cell_type": "code",
   "execution_count": null,
   "metadata": {},
   "outputs": [],
   "source": [
    "test.isnull().sum()"
   ]
  },
  {
   "cell_type": "code",
   "execution_count": null,
   "metadata": {},
   "outputs": [],
   "source": [
    "#missing value treatment in test dataset due unknown target variable by putting median\n",
    "prem = np.zeros(5)\n",
    "for dataset in [test]:\n",
    "    for i in range(1, 6):\n",
    "        df = dataset[(dataset['Income'] == i)]['late_premium'].dropna()\n",
    "        premium_guess = df.median()\n",
    "        prem[i - 1] = int(premium_guess) \n",
    "\n",
    "    for j in range(1, 6):\n",
    "        dataset.loc[(dataset.late_premium.isnull()) & (dataset.Income == j), 'late_premium'] = prem[j - 1] + 1\n",
    "\n",
    "    dataset['late_premium'] = dataset['late_premium'].astype(int)"
   ]
  },
  {
   "cell_type": "code",
   "execution_count": null,
   "metadata": {},
   "outputs": [],
   "source": [
    "test.head()"
   ]
  },
  {
   "cell_type": "code",
   "execution_count": null,
   "metadata": {},
   "outputs": [],
   "source": [
    "test.isnull().sum()"
   ]
  },
  {
   "cell_type": "code",
   "execution_count": null,
   "metadata": {},
   "outputs": [],
   "source": [
    "train.drop(['Count_3-6_months_late', 'Count_6-12_months_late', 'Count_more_than_12_months_late'], axis = 1, inplace = True)"
   ]
  },
  {
   "cell_type": "code",
   "execution_count": null,
   "metadata": {},
   "outputs": [],
   "source": [
    "test.drop(['Count_3-6_months_late', 'Count_6-12_months_late', 'Count_more_than_12_months_late'], axis = 1, inplace = True)"
   ]
  },
  {
   "cell_type": "code",
   "execution_count": null,
   "metadata": {},
   "outputs": [],
   "source": [
    "train.head()"
   ]
  },
  {
   "cell_type": "code",
   "execution_count": null,
   "metadata": {},
   "outputs": [],
   "source": [
    "test.head()"
   ]
  },
  {
   "cell_type": "code",
   "execution_count": null,
   "metadata": {},
   "outputs": [],
   "source": [
    "# tranforming Area Type and sourcing channel to numerical values using dictionary\n",
    "combine = [train, test]\n",
    "for dataset in combine: \n",
    "    dataset['residence_area_type'] = dataset['residence_area_type'].map( {'Urban' : 1, 'Rural' : 0} )\n",
    "    dataset['sourcing_channel'] = dataset['sourcing_channel'].map( {'A' : 0, 'B' : 1, 'C' : 2, 'D' : 3, 'E' : 4} )"
   ]
  },
  {
   "cell_type": "code",
   "execution_count": null,
   "metadata": {},
   "outputs": [],
   "source": [
    "train.head()"
   ]
  },
  {
   "cell_type": "code",
   "execution_count": null,
   "metadata": {},
   "outputs": [],
   "source": [
    "test.head()"
   ]
  },
  {
   "cell_type": "code",
   "execution_count": null,
   "metadata": {},
   "outputs": [],
   "source": [
    "train['application_underwriting_score'] = train['application_underwriting_score']/100"
   ]
  },
  {
   "cell_type": "code",
   "execution_count": null,
   "metadata": {},
   "outputs": [],
   "source": [
    "train.head()"
   ]
  },
  {
   "cell_type": "code",
   "execution_count": null,
   "metadata": {},
   "outputs": [],
   "source": [
    "#treating number of premiums\n",
    "result = train['no_of_premiums_paid'].quantile([.95])\n",
    "print(result)"
   ]
  },
  {
   "cell_type": "code",
   "execution_count": null,
   "metadata": {},
   "outputs": [],
   "source": [
    "true_index = train['no_of_premiums_paid'] < result.loc[.95]\n",
    "false_index = ~true_index\n",
    "true_index"
   ]
  },
  {
   "cell_type": "code",
   "execution_count": null,
   "metadata": {},
   "outputs": [],
   "source": [
    "train['Premiumclass'] = pd.cut(train[true_index]['no_of_premiums_paid'], 4)\n",
    "train[['Premiumclass', 'application_underwriting_score']].groupby('Premiumclass').count()"
   ]
  },
  {
   "cell_type": "code",
   "execution_count": null,
   "metadata": {},
   "outputs": [],
   "source": [
    "# combine = [train_data, test_data]\n",
    "# for dataset in combine: \n",
    "#     dataset.loc[ dataset['no_of_premiums_paid'] <= 6.25, 'no_of_premiums_paid'] = 0\n",
    "#     dataset.loc[(dataset['no_of_premiums_paid'] > 6.25) & (dataset['no_of_premiums_paid'] <= 10.5), 'no_of_premiums_paid'] = 1\n",
    "#     dataset.loc[(dataset['no_of_premiums_paid'] > 10.50) & (dataset['no_of_premiums_paid'] <= 14.75), 'no_of_premiums_paid'] = 2\n",
    "#     dataset.loc[(dataset['no_of_premiums_paid'] > 14.75) & (dataset['no_of_premiums_paid'] <= 19.0), 'no_of_premiums_paid'] = 3\n",
    "#     dataset.loc[ dataset['no_of_premiums_paid'] > 19.0, 'no_of_premiums_paid'] = 4\n",
    "    \n",
    "# train_data.drop('PremBand', axis = 1, inplace = True)\n",
    "# train_data.head()"
   ]
  },
  {
   "cell_type": "code",
   "execution_count": null,
   "metadata": {},
   "outputs": [],
   "source": [
    "#converting percentage premiums\n",
    "train['Premiumclass'] = pd.cut(train['perc_premium_paid_by_cash_credit'], 4)\n",
    "train[['Premiumclass', 'target']].groupby('Premiumclass').mean()"
   ]
  },
  {
   "cell_type": "code",
   "execution_count": null,
   "metadata": {},
   "outputs": [],
   "source": [
    "combine = [train, test]\n",
    "for dataset in combine: \n",
    "    dataset.loc[ dataset['perc_premium_paid_by_cash_credit'] <= 0.25, 'perc_premium_paid_by_cash_credit'] = 0\n",
    "    dataset.loc[(dataset['perc_premium_paid_by_cash_credit'] > 0.25) & (dataset['perc_premium_paid_by_cash_credit'] <= 0.5), 'perc_premium_paid_by_cash_credit'] = 1\n",
    "    dataset.loc[(dataset['perc_premium_paid_by_cash_credit'] > 0.5) & (dataset['perc_premium_paid_by_cash_credit'] <= 0.75), 'perc_premium_paid_by_cash_credit'] = 2\n",
    "    dataset.loc[ dataset['perc_premium_paid_by_cash_credit'] > 0.75, 'perc_premium_paid_by_cash_credit'] = 3\n",
    "train.drop('Premiumclass', axis = 1, inplace = True)"
   ]
  },
  {
   "cell_type": "code",
   "execution_count": null,
   "metadata": {},
   "outputs": [],
   "source": [
    "train.head()"
   ]
  },
  {
   "cell_type": "code",
   "execution_count": null,
   "metadata": {},
   "outputs": [],
   "source": [
    "test.head()"
   ]
  },
  {
   "cell_type": "code",
   "execution_count": null,
   "metadata": {},
   "outputs": [],
   "source": [
    "train[['perc_premium_paid_by_cash_credit', 'late_premium']] = train[['perc_premium_paid_by_cash_credit', 'late_premium']].astype(int)\n",
    "test[['perc_premium_paid_by_cash_credit']] = test[['perc_premium_paid_by_cash_credit']].astype(int)"
   ]
  },
  {
   "cell_type": "markdown",
   "metadata": {},
   "source": [
    "DataFrame.astype() method is used to cast a pandas object to a specified dtype. astype() function also provides the capability to convert any suitable existing column to categorical type."
   ]
  },
  {
   "cell_type": "code",
   "execution_count": null,
   "metadata": {},
   "outputs": [],
   "source": [
    "train.head()"
   ]
  },
  {
   "cell_type": "code",
   "execution_count": null,
   "metadata": {},
   "outputs": [],
   "source": [
    "test.head()"
   ]
  },
  {
   "cell_type": "code",
   "execution_count": null,
   "metadata": {},
   "outputs": [],
   "source": [
    "train.info()"
   ]
  },
  {
   "cell_type": "code",
   "execution_count": null,
   "metadata": {},
   "outputs": [],
   "source": [
    "test.info()"
   ]
  },
  {
   "cell_type": "markdown",
   "metadata": {},
   "source": [
    "# MODEL BUILDING"
   ]
  },
  {
   "cell_type": "code",
   "execution_count": null,
   "metadata": {},
   "outputs": [],
   "source": [
    "X_train = train.drop(['id', 'target','perc_premium_paid_by_cash_credit'], axis = 1).copy()\n",
    "y_train = train['target']\n",
    "X_test = test.drop(['id', 'perc_premium_paid_by_cash_credit'], axis = 1).copy()\n",
    "print(X_train.shape, y_train.shape, X_test.shape)"
   ]
  },
  {
   "cell_type": "code",
   "execution_count": null,
   "metadata": {},
   "outputs": [],
   "source": [
    "X_train.head()"
   ]
  },
  {
   "cell_type": "code",
   "execution_count": null,
   "metadata": {},
   "outputs": [],
   "source": [
    "y_train.head()"
   ]
  },
  {
   "cell_type": "code",
   "execution_count": null,
   "metadata": {},
   "outputs": [],
   "source": [
    "X_test.head()"
   ]
  },
  {
   "cell_type": "markdown",
   "metadata": {},
   "source": [
    "# logistic Regression"
   ]
  },
  {
   "cell_type": "code",
   "execution_count": null,
   "metadata": {},
   "outputs": [],
   "source": [
    "logreg = LogisticRegression()\n",
    "logreg.fit(X_train, y_train)\n",
    "\n",
    "y_pred = logreg.predict(X_test)\n",
    "print(\"y_pred\")\n",
    "print(y_pred)\n",
    "\n",
    "score_logreg = round(logreg.score(X_train, y_train) * 100, 2)\n",
    "print(\"Score\")\n",
    "print(score_logreg)\n",
    "\n",
    "conf_mat = confusion_matrix(logreg.predict(X_train),y_train)\n",
    "print(\"Confusion Matrix\")\n",
    "print(conf_mat)\n",
    "\n",
    "print(\"Classification Report\")\n",
    "print(classification_report(logreg.predict(X_train),y_train))\n",
    "\n",
    "tnr = np.round(conf_mat[0][0]/(conf_mat[0][0] + conf_mat[1][0]) * 100,3)\n",
    "tpr = np.round(conf_mat[1][1]/(conf_mat[1][1] + conf_mat[0][1]) * 100,3)\n",
    "fpr = np.round(conf_mat[1][0] / (conf_mat[1][0] + conf_mat[0][0]) * 100,3)\n",
    "print('TPR = ',tpr,'%')\n",
    "print('TNR = ',tnr,'%')\n",
    "print('FPR = ',fpr,'%')"
   ]
  },
  {
   "cell_type": "raw",
   "metadata": {},
   "source": [
    "Confusion Matrix is the summary of counts of correct and incorrect prediction , broken down by each class.\n",
    "TP    FP\n",
    "FN    TN\n",
    "\n",
    "Precision=TP/(TP+FP)\n",
    "Recall=TP/(TP+FN)\n",
    "f1-Score=2(precision.recall)/(precision+recall)\n",
    "\n",
    "f1-Score is harmonic mean of precision and recall."
   ]
  },
  {
   "cell_type": "code",
   "execution_count": null,
   "metadata": {},
   "outputs": [],
   "source": [
    "coeff = pd.DataFrame(train.columns.delete(0))\n",
    "coeff.columns = ['Feature']\n",
    "coeff['Correlation'] = pd.Series(logreg.coef_[0])\n",
    "coeff.sort_values(by = 'Correlation', ascending = False)"
   ]
  },
  {
   "cell_type": "markdown",
   "metadata": {},
   "source": [
    "# Gaussian Naive Bayes"
   ]
  },
  {
   "cell_type": "code",
   "execution_count": null,
   "metadata": {},
   "outputs": [],
   "source": [
    "gaussian = GaussianNB()\n",
    "gaussian.fit(X_train, y_train)\n",
    "\n",
    "y_pred = gaussian.predict(X_test)\n",
    "print(\"y_pred\")\n",
    "print(y_pred)\n",
    "\n",
    "score_gaussian = round(gaussian.score(X_train, y_train) * 100, 2)\n",
    "print(\"Score\")\n",
    "print(score_gaussian)\n",
    "\n",
    "conf_mat = confusion_matrix(gaussian.predict(X_train),y_train)\n",
    "print(\"Confusion Matrix\")\n",
    "print(conf_mat)\n",
    "\n",
    "print(\"Classification Report\")\n",
    "print(classification_report(gaussian.predict(X_train),y_train))\n",
    "\n",
    "tnr = np.round(conf_mat[0][0]/(conf_mat[0][0] + conf_mat[1][0]) * 100,3)\n",
    "tpr = np.round(conf_mat[1][1]/(conf_mat[1][1] + conf_mat[0][1]) * 100,3)\n",
    "fpr = np.round(conf_mat[1][0] / (conf_mat[1][0] + conf_mat[0][0]) * 100,3)\n",
    "print('TPR = ',tpr,'%')\n",
    "print('TNR = ',tnr,'%')\n",
    "print('FPR = ',fpr,'%')"
   ]
  },
  {
   "cell_type": "markdown",
   "metadata": {},
   "source": [
    "# K-Nearest Neighbor"
   ]
  },
  {
   "cell_type": "code",
   "execution_count": null,
   "metadata": {},
   "outputs": [],
   "source": [
    "# create new a knn model\n",
    "knn2 = KNeighborsClassifier()\n",
    "# create a dict of all values we want to test for n_neighbors\n",
    "param_grid = {'n_neighbors': np.arange(2, 10)}\n",
    "# use gridsearch to test all values for n_neighbors\n",
    "knn_gscv = GridSearchCV(knn2, param_grid, cv=5)\n",
    "#fit model to data\n",
    "knn_gscv.fit(X_train, y_train)"
   ]
  },
  {
   "cell_type": "code",
   "execution_count": null,
   "metadata": {},
   "outputs": [],
   "source": [
    "knn_gscv.best_params_"
   ]
  },
  {
   "cell_type": "code",
   "execution_count": null,
   "metadata": {},
   "outputs": [],
   "source": [
    "knn = KNeighborsClassifier(n_neighbors = 5)\n",
    "knn.fit(X_train, y_train)\n",
    "\n",
    "y_pred = knn.predict(X_test)\n",
    "print(\"y_pred\")\n",
    "print(y_pred)\n",
    "\n",
    "score_knn = round(knn.score(X_train, y_train) * 100, 2)\n",
    "print(\"Score\")\n",
    "print(score_knn)\n",
    "\n",
    "conf_mat = confusion_matrix(knn.predict(X_train),y_train)\n",
    "print(\"Confusion Matrix\")\n",
    "print(conf_mat)\n",
    "\n",
    "print(\"Classification Report\")\n",
    "print(classification_report(knn.predict(X_train),y_train))\n",
    "\n",
    "tnr = np.round(conf_mat[0][0]/(conf_mat[0][0] + conf_mat[1][0]) * 100,3)\n",
    "tpr = np.round(conf_mat[1][1]/(conf_mat[1][1] + conf_mat[0][1]) * 100,3)\n",
    "fpr = np.round(conf_mat[1][0] / (conf_mat[1][0] + conf_mat[0][0]) * 100,3)\n",
    "print('TPR = ',tpr,'%')\n",
    "print('TNR = ',tnr,'%')\n",
    "print('FPR = ',fpr,'%')"
   ]
  },
  {
   "cell_type": "markdown",
   "metadata": {},
   "source": [
    "# Perceptron Algorithm"
   ]
  },
  {
   "cell_type": "code",
   "execution_count": null,
   "metadata": {},
   "outputs": [],
   "source": [
    "perceptron = Perceptron()\n",
    "perceptron.fit(X_train, y_train)\n",
    "\n",
    "y_pred = perceptron.predict(X_test)\n",
    "print(\"y_pred\")\n",
    "print(y_pred)\n",
    "\n",
    "score_perceptron = round(perceptron.score(X_train, y_train) * 100, 2)\n",
    "print(\"Score\")\n",
    "print(score_perceptron)\n",
    "\n",
    "conf_mat = confusion_matrix(perceptron.predict(X_train),y_train)\n",
    "print(\"Confusion Matrix\")\n",
    "print(conf_mat)\n",
    "\n",
    "print(\"Classification Report\")\n",
    "print(classification_report(perceptron.predict(X_train),y_train))\n",
    "\n",
    "tnr = np.round(conf_mat[0][0]/(conf_mat[0][0] + conf_mat[1][0]) * 100,3)\n",
    "tpr = np.round(conf_mat[1][1]/(conf_mat[1][1] + conf_mat[0][1]) * 100,3)\n",
    "fpr = np.round(conf_mat[1][0] / (conf_mat[1][0] + conf_mat[0][0]) * 100,3)\n",
    "print('TPR = ',tpr,'%')\n",
    "print('TNR = ',tnr,'%')\n",
    "print('FPR = ',fpr,'%')"
   ]
  },
  {
   "cell_type": "markdown",
   "metadata": {},
   "source": [
    "# Stochastic Gradient Descent"
   ]
  },
  {
   "cell_type": "code",
   "execution_count": null,
   "metadata": {},
   "outputs": [],
   "source": [
    "sto = SGDClassifier()\n",
    "sto.fit(X_train, y_train)\n",
    "\n",
    "Y_pred = sto.predict(X_test)\n",
    "print(\"y_pred\")\n",
    "print(y_pred)\n",
    "\n",
    "score_sto = round(sto.score(X_train, y_train) * 100, 2)\n",
    "print(\"Score\")\n",
    "print(score_sto)\n",
    "\n",
    "conf_mat = confusion_matrix(sto.predict(X_train),y_train)\n",
    "print(\"Confusion Matrix\")\n",
    "print(conf_mat)\n",
    "\n",
    "print(\"Classification Report\")\n",
    "print(classification_report(sto.predict(X_train),y_train))\n",
    "\n",
    "tnr = np.round(conf_mat[0][0]/(conf_mat[0][0] + conf_mat[1][0]) * 100,3)\n",
    "tpr = np.round(conf_mat[1][1]/(conf_mat[1][1] + conf_mat[0][1]) * 100,3)\n",
    "fpr = np.round(conf_mat[1][0] / (conf_mat[1][0] + conf_mat[0][0]) * 100,3)\n",
    "print('TPR = ',tpr,'%')\n",
    "print('TNR = ',tnr,'%')\n",
    "print('FPR = ',fpr,'%')"
   ]
  },
  {
   "cell_type": "markdown",
   "metadata": {},
   "source": [
    "# Decision Tree"
   ]
  },
  {
   "cell_type": "code",
   "execution_count": null,
   "metadata": {},
   "outputs": [],
   "source": [
    "param_grid = {\n",
    "    'max_depth': np.arange(2,100)}\n",
    "#param_grid = {'max_depth': [5, 15, 25],'min_samples_leaf': [1, 3],'max_leaf_nodes': [10, 20, 35, 50]}\n",
    "dt = DecisionTreeClassifier()\n",
    "gs = GridSearchCV(dt, param_grid, scoring='f1', cv=5)\n",
    "gs.fit(X_train, y_train)\n",
    "print(\"best params:\", gs.best_params_)"
   ]
  },
  {
   "cell_type": "code",
   "execution_count": null,
   "metadata": {},
   "outputs": [],
   "source": [
    "dec = DecisionTreeClassifier(max_depth = 7)\n",
    "dec.fit(X_train, y_train)\n",
    "\n",
    "y_pred = dec.predict(X_test)\n",
    "print(\"y_pred\")\n",
    "print(y_pred)\n",
    "\n",
    "score_dec = round(dec.score(X_train, y_train) * 100, 2)\n",
    "print(\"Score\")\n",
    "print(score_dec)\n",
    "\n",
    "conf_mat = confusion_matrix(dec.predict(X_train),y_train)\n",
    "print(\"Confusion Matrix\")\n",
    "print(conf_mat)\n",
    "\n",
    "print(\"Classification Report\")\n",
    "print(classification_report(dec.predict(X_train),y_train))\n",
    "\n",
    "tnr = np.round(conf_mat[0][0]/(conf_mat[0][0] + conf_mat[1][0]) * 100,3)\n",
    "tpr = np.round(conf_mat[1][1]/(conf_mat[1][1] + conf_mat[0][1]) * 100,3)\n",
    "fpr = np.round(conf_mat[1][0] / (conf_mat[1][0] + conf_mat[0][0]) * 100,3)\n",
    "print('TPR = ',tpr,'%')\n",
    "print('TNR = ',tnr,'%')\n",
    "print('FPR = ',fpr,'%')"
   ]
  },
  {
   "cell_type": "markdown",
   "metadata": {},
   "source": [
    "# Random Forest"
   ]
  },
  {
   "cell_type": "code",
   "execution_count": null,
   "metadata": {},
   "outputs": [],
   "source": [
    "param_grid = {\n",
    "    'n_estimators': np.arange(1,10)\n",
    "}\n",
    "\n",
    "rf = RandomForestClassifier(random_state=123)\n",
    "gs = GridSearchCV(rf, param_grid, scoring='f1', cv=5)\n",
    "gs.fit(X_train, y_train)\n",
    "print(\"best params:\", gs.best_params_)"
   ]
  },
  {
   "cell_type": "code",
   "execution_count": null,
   "metadata": {},
   "outputs": [],
   "source": [
    "ran = RandomForestClassifier(n_estimators = 10)\n",
    "ran.fit(X_train, y_train)\n",
    "\n",
    "y_pred = ran.predict(X_test)\n",
    "ran.score(X_train, y_train)\n",
    "print(\"y_pred\")\n",
    "print(y_pred)\n",
    "\n",
    "score_ran = round(ran.score(X_train, y_train) * 100, 2)\n",
    "print(\"Score\")\n",
    "print(score_ran)\n",
    "\n",
    "conf_mat = confusion_matrix(ran.predict(X_train),y_train)\n",
    "print(\"Confusion Matrix\")\n",
    "print(conf_mat)\n",
    "\n",
    "print(\"Classification Report\")\n",
    "print(classification_report(ran.predict(X_train),y_train))\n",
    "\n",
    "tnr = np.round(conf_mat[0][0]/(conf_mat[0][0] + conf_mat[1][0]) * 100,3)\n",
    "tpr = np.round(conf_mat[1][1]/(conf_mat[1][1] + conf_mat[0][1]) * 100,3)\n",
    "fpr = np.round(conf_mat[1][0] / (conf_mat[1][0] + conf_mat[0][0]) * 100,3)\n",
    "print('TPR = ',tpr,'%')\n",
    "print('TNR = ',tnr,'%')\n",
    "print('FPR = ',fpr,'%')"
   ]
  },
  {
   "cell_type": "markdown",
   "metadata": {},
   "source": [
    "# Hyperparameter KNN\n",
    "from sklearn.model_selection import GridSearchCV\n",
    "knn = KNeighborsClassifier()\n",
    "p = list(range(1,100,3))\n",
    "parameters = {'n_neighbors':p}\n",
    "clf = GridSearchCV(knn,param_grid = parameters, scoring = 'roc_auc', cv=10, return_train_score = True)\n",
    "clf.fit(X_train_res,y_train_res)\n",
    "\n",
    "train_auc_error = [1 - x for x in clf.cv_reslts_['mean_train_score']]\n",
    "train_auc_std = np.std(train_auc_error)\n",
    "\n",
    "test_auc_error = [1 - x for x in clf.cv_results_['mean_test_score']]\n",
    "test_auc_std = np.std(test_auc_error)\n",
    "\n",
    "plt.plot(p,train_auc_error,label = 'Train AUC',color = 'orange')\n",
    "plt.gca().fill_between(parameters,train_auc_error-train_auc_std,train_auc_error+train_auc_std,color= 'orange')\n",
    "\n",
    "plt.plot(p,test_auc_error,label = 'Test AUC', color = 'darkblue')\n",
    "plt.gca().fill_between(parameters,test_auc_error-test_auc_std,test_auc_std+test_auc_std,color= 'darkbue')\n",
    "\n",
    "plt.xlabel('K: Hyperparameter')\n",
    "plt.ylabel('Errors')\n",
    "plt.legend(loc = 'lower right')\n",
    "plt.show()\n",
    "\n",
    "optimal_k = clf.best_params_.get('n_neighbors')\n",
    "\n",
    "print('optimal k is ', optimal_k)"
   ]
  },
  {
   "cell_type": "code",
   "execution_count": null,
   "metadata": {},
   "outputs": [],
   "source": [
    "#TABULATING ALL ACCURACY OF ALL ABOVE MODEL \n",
    "pred_values = pd.DataFrame({\n",
    "    'Model': ['KNN', 'Logistic Regression', \n",
    "              'Random Forest', 'Naive Bayes', 'Perceptron', \n",
    "              'Stochastic Gradient Decent', \n",
    "              'Decision Tree'],\n",
    "    'Score': [score_knn, score_logreg, \n",
    "              score_ran, score_gaussian, score_perceptron, \n",
    "              score_sto, score_dec]})\n",
    "pred_values.sort_values(by='Score', ascending=False)"
   ]
  },
  {
   "cell_type": "code",
   "execution_count": null,
   "metadata": {},
   "outputs": [],
   "source": [
    "#EXPORTING THE PREDICTIONS OT CSV FILE\n",
    "submission = pd.DataFrame({\n",
    "        \"id\": test[\"id\"],\n",
    "        \"target\": y_pred\n",
    "    })\n",
    "submission.to_csv('submission.csv', index=False)"
   ]
  },
  {
   "cell_type": "code",
   "execution_count": null,
   "metadata": {},
   "outputs": [],
   "source": [
    "submission.describe()"
   ]
  },
  {
   "cell_type": "code",
   "execution_count": null,
   "metadata": {},
   "outputs": [],
   "source": [
    "test.head(20)"
   ]
  },
  {
   "cell_type": "code",
   "execution_count": null,
   "metadata": {},
   "outputs": [],
   "source": []
  }
 ],
 "metadata": {
  "kernelspec": {
   "display_name": "Python 3",
   "language": "python",
   "name": "python3"
  },
  "language_info": {
   "codemirror_mode": {
    "name": "ipython",
    "version": 3
   },
   "file_extension": ".py",
   "mimetype": "text/x-python",
   "name": "python",
   "nbconvert_exporter": "python",
   "pygments_lexer": "ipython3",
   "version": "3.7.4"
  }
 },
 "nbformat": 4,
 "nbformat_minor": 2
}
